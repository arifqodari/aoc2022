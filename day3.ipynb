{
 "cells": [
  {
   "cell_type": "markdown",
   "metadata": {},
   "source": [
    "# Day 3"
   ]
  },
  {
   "cell_type": "code",
   "execution_count": 6,
   "metadata": {},
   "outputs": [],
   "source": [
    "import pandas as pd"
   ]
  },
  {
   "cell_type": "markdown",
   "metadata": {},
   "source": [
    "## Data"
   ]
  },
  {
   "cell_type": "code",
   "execution_count": 7,
   "metadata": {},
   "outputs": [
    {
     "data": {
      "text/html": [
       "<div>\n",
       "<style scoped>\n",
       "    .dataframe tbody tr th:only-of-type {\n",
       "        vertical-align: middle;\n",
       "    }\n",
       "\n",
       "    .dataframe tbody tr th {\n",
       "        vertical-align: top;\n",
       "    }\n",
       "\n",
       "    .dataframe thead th {\n",
       "        text-align: right;\n",
       "    }\n",
       "</style>\n",
       "<table border=\"1\" class=\"dataframe\">\n",
       "  <thead>\n",
       "    <tr style=\"text-align: right;\">\n",
       "      <th></th>\n",
       "      <th>rucksack</th>\n",
       "    </tr>\n",
       "  </thead>\n",
       "  <tbody>\n",
       "    <tr>\n",
       "      <th>0</th>\n",
       "      <td>FqdWDFppHWhmwwzdjvjTRTznjdMv</td>\n",
       "    </tr>\n",
       "    <tr>\n",
       "      <th>1</th>\n",
       "      <td>ZBJrDVfQcfSRMLjZnjjM</td>\n",
       "    </tr>\n",
       "    <tr>\n",
       "      <th>2</th>\n",
       "      <td>cBffPfbrbQcgQJggfVQJBPbCwlPtWFDWHFHhpmmGlGmlqmDG</td>\n",
       "    </tr>\n",
       "    <tr>\n",
       "      <th>3</th>\n",
       "      <td>PNbMLgmPgRDgRtMPDdmdbmdmQrTBVCZnVnpCnNHHVZBNVZHc</td>\n",
       "    </tr>\n",
       "    <tr>\n",
       "      <th>4</th>\n",
       "      <td>ljvvqhlvshhnrcpBZqpTcr</td>\n",
       "    </tr>\n",
       "    <tr>\n",
       "      <th>...</th>\n",
       "      <td>...</td>\n",
       "    </tr>\n",
       "    <tr>\n",
       "      <th>295</th>\n",
       "      <td>dMfdpVfVhGVfVpVTtWWbzwngLMLwMRCmgmLMmsww</td>\n",
       "    </tr>\n",
       "    <tr>\n",
       "      <th>296</th>\n",
       "      <td>SWppdTrprThhrGVztcrllrQJZNlBZlrNZB</td>\n",
       "    </tr>\n",
       "    <tr>\n",
       "      <th>297</th>\n",
       "      <td>TTrNcjGNWDdDPDpPjDPNrbmFPfQSFmfSMCmCfSmSSR</td>\n",
       "    </tr>\n",
       "    <tr>\n",
       "      <th>298</th>\n",
       "      <td>sshhqshzBVnzHgwCMbCwcfmRFmRMbm</td>\n",
       "    </tr>\n",
       "    <tr>\n",
       "      <th>299</th>\n",
       "      <td>gHVVnBzJcBgVhtZZtgJhpGrGNpvDpddvprNGrlTJ</td>\n",
       "    </tr>\n",
       "  </tbody>\n",
       "</table>\n",
       "<p>300 rows × 1 columns</p>\n",
       "</div>"
      ],
      "text/plain": [
       "                                             rucksack\n",
       "0                        FqdWDFppHWhmwwzdjvjTRTznjdMv\n",
       "1                                ZBJrDVfQcfSRMLjZnjjM\n",
       "2    cBffPfbrbQcgQJggfVQJBPbCwlPtWFDWHFHhpmmGlGmlqmDG\n",
       "3    PNbMLgmPgRDgRtMPDdmdbmdmQrTBVCZnVnpCnNHHVZBNVZHc\n",
       "4                              ljvvqhlvshhnrcpBZqpTcr\n",
       "..                                                ...\n",
       "295          dMfdpVfVhGVfVpVTtWWbzwngLMLwMRCmgmLMmsww\n",
       "296                SWppdTrprThhrGVztcrllrQJZNlBZlrNZB\n",
       "297        TTrNcjGNWDdDPDpPjDPNrbmFPfQSFmfSMCmCfSmSSR\n",
       "298                    sshhqshzBVnzHgwCMbCwcfmRFmRMbm\n",
       "299          gHVVnBzJcBgVhtZZtgJhpGrGNpvDpddvprNGrlTJ\n",
       "\n",
       "[300 rows x 1 columns]"
      ]
     },
     "execution_count": 7,
     "metadata": {},
     "output_type": "execute_result"
    }
   ],
   "source": [
    "\n",
    "df = pd.read_csv(\"./data/day3.txt\", header=None, names=[\"rucksack\"])\n",
    "df"
   ]
  },
  {
   "cell_type": "markdown",
   "metadata": {},
   "source": [
    "## 1\n",
    "\n",
    "Find the item type that appears in both compartments of each rucksack. What is the sum of the priorities of those item types?"
   ]
  },
  {
   "cell_type": "code",
   "execution_count": 8,
   "metadata": {},
   "outputs": [
    {
     "data": {
      "text/html": [
       "<div>\n",
       "<style scoped>\n",
       "    .dataframe tbody tr th:only-of-type {\n",
       "        vertical-align: middle;\n",
       "    }\n",
       "\n",
       "    .dataframe tbody tr th {\n",
       "        vertical-align: top;\n",
       "    }\n",
       "\n",
       "    .dataframe thead th {\n",
       "        text-align: right;\n",
       "    }\n",
       "</style>\n",
       "<table border=\"1\" class=\"dataframe\">\n",
       "  <thead>\n",
       "    <tr style=\"text-align: right;\">\n",
       "      <th></th>\n",
       "      <th>rucksack</th>\n",
       "    </tr>\n",
       "  </thead>\n",
       "  <tbody>\n",
       "    <tr>\n",
       "      <th>0</th>\n",
       "      <td>vJrwpWtwJgWrhcsFMMfFFhFp</td>\n",
       "    </tr>\n",
       "    <tr>\n",
       "      <th>1</th>\n",
       "      <td>jqHRNqRjqzjGDLGLrsFMfFZSrLrFZsSL</td>\n",
       "    </tr>\n",
       "    <tr>\n",
       "      <th>2</th>\n",
       "      <td>PmmdzqPrVvPwwTWBwg</td>\n",
       "    </tr>\n",
       "    <tr>\n",
       "      <th>3</th>\n",
       "      <td>wMqvLMZHhHMvwLHjbvcjnnSBnvTQFn</td>\n",
       "    </tr>\n",
       "    <tr>\n",
       "      <th>4</th>\n",
       "      <td>ttgJtRGJQctTZtZT</td>\n",
       "    </tr>\n",
       "    <tr>\n",
       "      <th>5</th>\n",
       "      <td>CrZsJsPPZsGzwwsLwLmpwMDw</td>\n",
       "    </tr>\n",
       "  </tbody>\n",
       "</table>\n",
       "</div>"
      ],
      "text/plain": [
       "                           rucksack\n",
       "0          vJrwpWtwJgWrhcsFMMfFFhFp\n",
       "1  jqHRNqRjqzjGDLGLrsFMfFZSrLrFZsSL\n",
       "2                PmmdzqPrVvPwwTWBwg\n",
       "3    wMqvLMZHhHMvwLHjbvcjnnSBnvTQFn\n",
       "4                  ttgJtRGJQctTZtZT\n",
       "5          CrZsJsPPZsGzwwsLwLmpwMDw"
      ]
     },
     "execution_count": 8,
     "metadata": {},
     "output_type": "execute_result"
    }
   ],
   "source": [
    "test_df = pd.DataFrame({\n",
    "    \"rucksack\": [\n",
    "        \"vJrwpWtwJgWrhcsFMMfFFhFp\",\n",
    "        \"jqHRNqRjqzjGDLGLrsFMfFZSrLrFZsSL\",\n",
    "        \"PmmdzqPrVvPwwTWBwg\",\n",
    "        \"wMqvLMZHhHMvwLHjbvcjnnSBnvTQFn\",\n",
    "        \"ttgJtRGJQctTZtZT\",\n",
    "        \"CrZsJsPPZsGzwwsLwLmpwMDw\"\n",
    "    ]\n",
    "})\n",
    "test_df"
   ]
  },
  {
   "cell_type": "code",
   "execution_count": 9,
   "metadata": {},
   "outputs": [
    {
     "data": {
      "text/plain": [
       "8243"
      ]
     },
     "execution_count": 9,
     "metadata": {},
     "output_type": "execute_result"
    }
   ],
   "source": [
    "def split_rucksack(row):\n",
    "    i = len(row.rucksack) // 2\n",
    "    return row.rucksack[:i], row.rucksack[i:]\n",
    "\n",
    "    \n",
    "def find_similar_item(row):\n",
    "    return list(set(row.first_) & set(row.second_))\n",
    "\n",
    "\n",
    "def get_priority(char):\n",
    "    if char.isupper():\n",
    "        return ord(char) - 38\n",
    "    else:\n",
    "        return ord(char) - 96\n",
    "    \n",
    "    \n",
    "(\n",
    "    df\n",
    "    .apply(split_rucksack, result_type=\"expand\", axis=1)\n",
    "    .set_axis([\"first_\", \"second_\"], axis=1)\n",
    "    .assign(\n",
    "        similar_item=lambda dfx: dfx.apply(find_similar_item, axis=1),\n",
    "        priority=lambda dfx: dfx.similar_item.map(lambda x: sum(map(get_priority, x)))\n",
    "    )\n",
    "    .priority.sum()\n",
    ")"
   ]
  },
  {
   "cell_type": "markdown",
   "metadata": {},
   "source": [
    "## 2\n",
    "\n",
    "Find the item type that corresponds to the badges of each three-Elf group. What is the sum of the priorities of those item types?"
   ]
  },
  {
   "cell_type": "code",
   "execution_count": 10,
   "metadata": {},
   "outputs": [
    {
     "data": {
      "text/plain": [
       "2631"
      ]
     },
     "execution_count": 10,
     "metadata": {},
     "output_type": "execute_result"
    }
   ],
   "source": [
    "def find_similar_item(ll):\n",
    "    r = set(ll[0])\n",
    "    for i in range(1, len(ll)):\n",
    "        r = r & set(ll[i])\n",
    "    return list(r)\n",
    "\n",
    "\n",
    "(\n",
    "    df\n",
    "    .assign(\n",
    "        group_id=lambda dfx: dfx.index // 3\n",
    "    )\n",
    "    .groupby(\"group_id\")\n",
    "    .agg(\n",
    "        rucksacks=(\"rucksack\", list)\n",
    "    )\n",
    "    .assign(\n",
    "        similar_item=lambda dfx: dfx.rucksacks.apply(find_similar_item),\n",
    "        priority=lambda dfx: dfx.similar_item.map(lambda x: sum(map(get_priority, x)))\n",
    "    )\n",
    "    .priority.sum()\n",
    ")"
   ]
  }
 ],
 "metadata": {
  "kernelspec": {
   "display_name": "Python 3.9.13 ('ds')",
   "language": "python",
   "name": "python3"
  },
  "language_info": {
   "codemirror_mode": {
    "name": "ipython",
    "version": 3
   },
   "file_extension": ".py",
   "mimetype": "text/x-python",
   "name": "python",
   "nbconvert_exporter": "python",
   "pygments_lexer": "ipython3",
   "version": "3.9.13"
  },
  "orig_nbformat": 4,
  "vscode": {
   "interpreter": {
    "hash": "f54d7ccf7cf800f81d40b6602401aa8d6fa98ff91f928aabbd280de0f83bee16"
   }
  }
 },
 "nbformat": 4,
 "nbformat_minor": 2
}
